{
  "nbformat": 4,
  "nbformat_minor": 0,
  "metadata": {
    "colab": {
      "name": "Transformer Project.ipynb",
      "provenance": [],
      "collapsed_sections": [
        "GGJ9YG3tPwu1"
      ]
    },
    "kernelspec": {
      "name": "python3",
      "display_name": "Python 3"
    },
    "accelerator": "GPU"
  },
  "cells": [
    {
      "cell_type": "markdown",
      "metadata": {
        "id": "Ts1Yu2VHCr9o",
        "colab_type": "text"
      },
      "source": [
        "# Imports"
      ]
    },
    {
      "cell_type": "code",
      "metadata": {
        "id": "FlfT-jbBzedV",
        "colab_type": "code",
        "colab": {}
      },
      "source": [
        "import io\n",
        "import os\n",
        "import glob\n",
        "import matplotlib.pyplot as plt\n",
        "import numpy as np \n",
        "import pandas as pd \n",
        "\n",
        "%matplotlib inline\n",
        "\n",
        "import pickle\n",
        "\n",
        "import nltk\n",
        "from nltk.corpus import stopwords\n",
        "from nltk.stem.porter import *\n",
        "\n",
        "import re\n",
        "from bs4 import BeautifulSoup\n",
        "\n",
        "import random\n",
        "import math\n",
        "import copy\n",
        "\n",
        "import torch\n",
        "import torch.optim as optim\n",
        "import torch.nn as nn\n",
        "import torch.nn.functional as F\n",
        "\n",
        "from torch.autograd import Variable"
      ],
      "execution_count": null,
      "outputs": []
    },
    {
      "cell_type": "code",
      "metadata": {
        "id": "6Mh63tUL2NJA",
        "colab_type": "code",
        "colab": {}
      },
      "source": [
        "# DATA = 'europarl'\n",
        "DATA = 'newscarl'"
      ],
      "execution_count": null,
      "outputs": []
    },
    {
      "cell_type": "markdown",
      "metadata": {
        "id": "adawBJlF6H_K",
        "colab_type": "text"
      },
      "source": [
        "# Downloading the Data"
      ]
    },
    {
      "cell_type": "code",
      "metadata": {
        "id": "j4gJtU8K6ERZ",
        "colab_type": "code",
        "colab": {
          "base_uri": "https://localhost:8080/",
          "height": 656
        },
        "outputId": "36d0c517-2273-46df-ca0a-f905a22db6e9"
      },
      "source": [
        "if DATA == 'europarl':\n",
        "  URLS=[\"http://www.statmt.org/europarl/v10/training-monolingual/europarl-v10.es.tsv.gz\"]\n",
        "elif DATA == 'newscarl':\n",
        "    URLS=[\n",
        "    \"http://data.statmt.org/news-crawl/es/news.2007.es.shuffled.deduped.gz\",\n",
        "    \"http://data.statmt.org/news-crawl/es/news.2008.es.shuffled.deduped.gz\",\n",
        "    \"http://data.statmt.org/news-crawl/es/news.2009.es.shuffled.deduped.gz\",\n",
        "    # \"http://data.statmt.org/news-crawl/es/news.2010.es.shuffled.deduped.gz\",\n",
        "    # \"http://data.statmt.org/news-crawl/es/news.2011.es.shuffled.deduped.gz\",\n",
        "    # \"http://data.statmt.org/news-crawl/es/news.2012.es.shuffled.deduped.gz\",\n",
        "    # \"http://data.statmt.org/news-crawl/es/news.2013.es.shuffled.deduped.gz\",\n",
        "    # \"http://data.statmt.org/news-crawl/es/news.2014.es.shuffled.deduped.gz\",\n",
        "    # \"http://data.statmt.org/news-crawl/es/news.2015.es.shuffled.deduped.gz\",\n",
        "    # \"http://data.statmt.org/news-crawl/es/news.2016.es.shuffled.deduped.gz\",\n",
        "    # \"http://data.statmt.org/news-crawl/es/news.2017.es.shuffled.deduped.gz\",\n",
        "    # \"http://data.statmt.org/news-crawl/es/news.2018.es.shuffled.deduped.gz\",\n",
        "    # \"http://data.statmt.org/news-crawl/es/news.2019.es.shuffled.deduped.gz\"\n",
        "  ]\n",
        "\n",
        "for u in URLS:\n",
        "  print(u)\n",
        "  !wget $u\n"
      ],
      "execution_count": null,
      "outputs": [
        {
          "output_type": "stream",
          "text": [
            "http://data.statmt.org/news-crawl/es/news.2007.es.shuffled.deduped.gz\n",
            "--2020-09-17 15:25:31--  http://data.statmt.org/news-crawl/es/news.2007.es.shuffled.deduped.gz\n",
            "Resolving data.statmt.org (data.statmt.org)... 129.215.197.184\n",
            "Connecting to data.statmt.org (data.statmt.org)|129.215.197.184|:80... connected.\n",
            "HTTP request sent, awaiting response... 200 OK\n",
            "Length: 2705371 (2.6M) [application/x-gzip]\n",
            "Saving to: ‘news.2007.es.shuffled.deduped.gz’\n",
            "\n",
            "news.2007.es.shuffl 100%[===================>]   2.58M  --.-KB/s    in 0.1s    \n",
            "\n",
            "2020-09-17 15:25:31 (18.0 MB/s) - ‘news.2007.es.shuffled.deduped.gz’ saved [2705371/2705371]\n",
            "\n",
            "http://data.statmt.org/news-crawl/es/news.2008.es.shuffled.deduped.gz\n",
            "--2020-09-17 15:25:31--  http://data.statmt.org/news-crawl/es/news.2008.es.shuffled.deduped.gz\n",
            "Resolving data.statmt.org (data.statmt.org)... 129.215.197.184\n",
            "Connecting to data.statmt.org (data.statmt.org)|129.215.197.184|:80... connected.\n",
            "HTTP request sent, awaiting response... 200 OK\n",
            "Length: 106965569 (102M) [application/x-gzip]\n",
            "Saving to: ‘news.2008.es.shuffled.deduped.gz’\n",
            "\n",
            "news.2008.es.shuffl 100%[===================>] 102.01M  95.3MB/s    in 1.1s    \n",
            "\n",
            "2020-09-17 15:25:32 (95.3 MB/s) - ‘news.2008.es.shuffled.deduped.gz’ saved [106965569/106965569]\n",
            "\n",
            "http://data.statmt.org/news-crawl/es/news.2009.es.shuffled.deduped.gz\n",
            "--2020-09-17 15:25:32--  http://data.statmt.org/news-crawl/es/news.2009.es.shuffled.deduped.gz\n",
            "Resolving data.statmt.org (data.statmt.org)... 129.215.197.184\n",
            "Connecting to data.statmt.org (data.statmt.org)|129.215.197.184|:80... connected.\n",
            "HTTP request sent, awaiting response... 200 OK\n",
            "Length: 73266366 (70M) [application/x-gzip]\n",
            "Saving to: ‘news.2009.es.shuffled.deduped.gz’\n",
            "\n",
            "news.2009.es.shuffl 100%[===================>]  69.87M  90.5MB/s    in 0.8s    \n",
            "\n",
            "2020-09-17 15:25:33 (90.5 MB/s) - ‘news.2009.es.shuffled.deduped.gz’ saved [73266366/73266366]\n",
            "\n"
          ],
          "name": "stdout"
        }
      ]
    },
    {
      "cell_type": "markdown",
      "metadata": {
        "id": "LKnRHhq17hSh",
        "colab_type": "text"
      },
      "source": [
        "Unzip"
      ]
    },
    {
      "cell_type": "code",
      "metadata": {
        "id": "KLH9cv7-7ipo",
        "colab_type": "code",
        "colab": {
          "base_uri": "https://localhost:8080/",
          "height": 70
        },
        "outputId": "67fc884f-b12e-40cc-ec88-65047a219af9"
      },
      "source": [
        "if DATA == 'europarl':\n",
        "  FILES = [\"europarl-v10.es.tsv.gz\"]\n",
        "elif DATA == 'newscarl':\n",
        "  FILES=[\n",
        "    \"news.2007.es.shuffled.deduped.gz\",\n",
        "    \"news.2008.es.shuffled.deduped.gz\",\n",
        "    \"news.2009.es.shuffled.deduped.gz\",\n",
        "    # \"news.2010.es.shuffled.deduped.gz\",\n",
        "    # \"news.2011.es.shuffled.deduped.gz\",\n",
        "    # \"news.2012.es.shuffled.deduped.gz\",\n",
        "    # \"news.2013.es.shuffled.deduped.gz\",\n",
        "    # \"news.2014.es.shuffled.deduped.gz\",\n",
        "    # \"news.2015.es.shuffled.deduped.gz\",\n",
        "    # \"news.2016.es.shuffled.deduped.gz\",\n",
        "    # \"news.2017.es.shuffled.deduped.gz\",\n",
        "    # \"news.2018.es.shuffled.deduped.gz\",\n",
        "    # \"news.2019.es.shuffled.deduped.gz\"\n",
        "  ]\n",
        "\n",
        "for f in FILES:\n",
        "  print(f)\n",
        "  !gunzip $f"
      ],
      "execution_count": null,
      "outputs": [
        {
          "output_type": "stream",
          "text": [
            "news.2007.es.shuffled.deduped.gz\n",
            "news.2008.es.shuffled.deduped.gz\n",
            "news.2009.es.shuffled.deduped.gz\n"
          ],
          "name": "stdout"
        }
      ]
    },
    {
      "cell_type": "markdown",
      "metadata": {
        "id": "PHl_Uh4T6mT1",
        "colab_type": "text"
      },
      "source": [
        "Join all data"
      ]
    },
    {
      "cell_type": "code",
      "metadata": {
        "id": "yJKICijI6oZp",
        "colab_type": "code",
        "colab": {
          "base_uri": "https://localhost:8080/",
          "height": 70
        },
        "outputId": "aa4ce285-0695-46d1-8c3e-2da16459cc4b"
      },
      "source": [
        "if DATA == 'europarl':\n",
        "  CORPORA = [\"europarl-v10.es.tsv\"]\n",
        "elif DATA == 'newscarl':\n",
        "  CORPORA=[\n",
        "    \"news.2007.es.shuffled.deduped\",\n",
        "    \"news.2008.es.shuffled.deduped\",\n",
        "    \"news.2009.es.shuffled.deduped\",\n",
        "    # \"news.2010.es.shuffled.deduped\",\n",
        "    # \"news.2011.es.shuffled.deduped\",\n",
        "    # \"news.2012.es.shuffled.deduped\",\n",
        "    # \"news.2013.es.shuffled.deduped\",\n",
        "    # \"news.2014.es.shuffled.deduped\",\n",
        "    # \"news.2015.es.shuffled.deduped\",\n",
        "    # \"news.2016.es.shuffled.deduped\",\n",
        "    # \"news.2017.es.shuffled.deduped\",\n",
        "    # \"news.2018.es.shuffled.deduped\",\n",
        "    # \"news.2019.es.shuffled.deduped\"\n",
        "  ]\n",
        "\n",
        "with open('corpus.es', 'w') as outfile:\n",
        "    for fname in CORPORA:\n",
        "        print('Joining file:', fname)\n",
        "        with open(fname) as infile:\n",
        "            for line in infile:\n",
        "                outfile.write(line)"
      ],
      "execution_count": null,
      "outputs": [
        {
          "output_type": "stream",
          "text": [
            "Joining file: news.2007.es.shuffled.deduped\n",
            "Joining file: news.2008.es.shuffled.deduped\n",
            "Joining file: news.2009.es.shuffled.deduped\n"
          ],
          "name": "stdout"
        }
      ]
    },
    {
      "cell_type": "markdown",
      "metadata": {
        "id": "S884_TeW9fnm",
        "colab_type": "text"
      },
      "source": [
        "Removing extra files"
      ]
    },
    {
      "cell_type": "code",
      "metadata": {
        "id": "SvDgH7sv9hoR",
        "colab_type": "code",
        "colab": {
          "base_uri": "https://localhost:8080/",
          "height": 34
        },
        "outputId": "3e59fba6-b39d-4a98-bf93-16c0fde53958"
      },
      "source": [
        "!rm *.deduped *.tsv\n",
        "!du -sh corpus.es"
      ],
      "execution_count": null,
      "outputs": [
        {
          "output_type": "stream",
          "text": [
            "425M\tcorpus.es\n"
          ],
          "name": "stdout"
        }
      ]
    },
    {
      "cell_type": "markdown",
      "metadata": {
        "id": "7AE8lAXj_d-w",
        "colab_type": "text"
      },
      "source": [
        "Keep reduced file"
      ]
    },
    {
      "cell_type": "code",
      "metadata": {
        "id": "QhM2nVHz_Sgq",
        "colab_type": "code",
        "colab": {
          "base_uri": "https://localhost:8080/",
          "height": 34
        },
        "outputId": "f7749b77-9e3e-451e-942a-736d5a5dc0d6"
      },
      "source": [
        "MAX_LINES = 10000\n",
        "\n",
        "with open('corpus.es', 'r') as cfile:\n",
        "  with open('corpus.reduced.es', 'w') as rfile:\n",
        "    count = 0\n",
        "    while count < MAX_LINES:\n",
        "      line = cfile.readline()\n",
        "      rfile.write(line)\n",
        "      count += 1\n",
        "    print(count)"
      ],
      "execution_count": null,
      "outputs": [
        {
          "output_type": "stream",
          "text": [
            "10000\n"
          ],
          "name": "stdout"
        }
      ]
    },
    {
      "cell_type": "markdown",
      "metadata": {
        "id": "mxNJW4UnBQqb",
        "colab_type": "text"
      },
      "source": [
        "# Read Data"
      ]
    },
    {
      "cell_type": "code",
      "metadata": {
        "id": "pe5MW8QsA_7X",
        "colab_type": "code",
        "colab": {}
      },
      "source": [
        "FILE = 'corpus.reduced.es'\n",
        "data = []\n",
        "\n",
        "with open(FILE, 'r') as corpus_file:\n",
        "  Lines = corpus_file.readlines()   \n",
        "  for line in Lines:\n",
        "    data.append(line)\n",
        "    "
      ],
      "execution_count": null,
      "outputs": []
    },
    {
      "cell_type": "code",
      "metadata": {
        "id": "6nO-W73VByES",
        "colab_type": "code",
        "colab": {
          "base_uri": "https://localhost:8080/",
          "height": 34
        },
        "outputId": "0ebe4e4d-5472-4a22-abe5-5edc8e5842f4"
      },
      "source": [
        "print(len(data))"
      ],
      "execution_count": null,
      "outputs": [
        {
          "output_type": "stream",
          "text": [
            "10000\n"
          ],
          "name": "stdout"
        }
      ]
    },
    {
      "cell_type": "markdown",
      "metadata": {
        "id": "5qQBj5qADk5u",
        "colab_type": "text"
      },
      "source": [
        "# Processing the data"
      ]
    },
    {
      "cell_type": "code",
      "metadata": {
        "id": "HdMaztZECrWs",
        "colab_type": "code",
        "colab": {}
      },
      "source": [
        "def sentence_to_words(sentence):\n",
        "    nltk.download(\"stopwords\", quiet=True)\n",
        "    stemmer = PorterStemmer()\n",
        "    \n",
        "    text = BeautifulSoup(sentence, \"html.parser\").get_text() # Remove HTML tags\n",
        "    text = re.sub(r\"[^a-zA-Z0-9]\", \" \", text.lower()) # Convert to lower case\n",
        "    words = text.split() # Split string into words\n",
        "    words = [w for w in words if w not in stopwords.words(\"spanish\")] # Remove stopwords\n",
        "    words = [PorterStemmer().stem(w) for w in words] # stem\n",
        "    \n",
        "    return words"
      ],
      "execution_count": null,
      "outputs": []
    },
    {
      "cell_type": "code",
      "metadata": {
        "id": "lf7XaPwcEX9n",
        "colab_type": "code",
        "colab": {
          "base_uri": "https://localhost:8080/",
          "height": 70
        },
        "outputId": "4fc7b24f-bab8-4623-90bc-6ee93ada3e4e"
      },
      "source": [
        "print(data[50])\n",
        "print(sentence_to_words(data[50]))\n"
      ],
      "execution_count": null,
      "outputs": [
        {
          "output_type": "stream",
          "text": [
            "Y este final de año ha venido marcado por dos hitos significativos en el campo de los universos paralelos.\n",
            "\n",
            "['final', 'venido', 'marcado', 'do', 'hito', 'significativo', 'campo', 'universo', 'paralelo']\n"
          ],
          "name": "stdout"
        }
      ]
    },
    {
      "cell_type": "markdown",
      "metadata": {
        "id": "DNNxwM2FNhrg",
        "colab_type": "text"
      },
      "source": [
        "Also: Remove all sentences with less than 5 words and more than 35"
      ]
    },
    {
      "cell_type": "code",
      "metadata": {
        "id": "XqESWRpqEjEe",
        "colab_type": "code",
        "colab": {
          "base_uri": "https://localhost:8080/",
          "height": 212
        },
        "outputId": "e0562ea1-9b7b-4b69-a03e-2a234bc0987a"
      },
      "source": [
        "import time\n",
        "MAX_PADDING = 35\n",
        "MIN_LEN_SENTENCE = 5\n",
        "preprocessed_data = []\n",
        "start = time.time()\n",
        "perc = 0\n",
        "for ind, s in enumerate(data):\n",
        "  words = sentence_to_words(s)\n",
        "  if len(words) >= MIN_LEN_SENTENCE and len(words) <= MAX_PADDING :\n",
        "    preprocessed_data.append(words)\n",
        "  if ind > perc:\n",
        "    print('{}/{} sentences preprocessed'.format(perc, len(data)))\n",
        "    perc += 1000\n",
        "\n",
        "end = time.time()\n",
        "print(end-start)\n"
      ],
      "execution_count": null,
      "outputs": [
        {
          "output_type": "stream",
          "text": [
            "0/10000 sentences preprocessed\n",
            "1000/10000 sentences preprocessed\n",
            "2000/10000 sentences preprocessed\n",
            "3000/10000 sentences preprocessed\n",
            "4000/10000 sentences preprocessed\n",
            "5000/10000 sentences preprocessed\n",
            "6000/10000 sentences preprocessed\n",
            "7000/10000 sentences preprocessed\n",
            "8000/10000 sentences preprocessed\n",
            "9000/10000 sentences preprocessed\n",
            "56.64922022819519\n"
          ],
          "name": "stdout"
        }
      ]
    },
    {
      "cell_type": "code",
      "metadata": {
        "id": "pqakgtIfN0Hx",
        "colab_type": "code",
        "colab": {
          "base_uri": "https://localhost:8080/",
          "height": 34
        },
        "outputId": "12bb5135-c7bc-470f-cb7f-9d69735effb9"
      },
      "source": [
        "len(preprocessed_data)"
      ],
      "execution_count": null,
      "outputs": [
        {
          "output_type": "execute_result",
          "data": {
            "text/plain": [
              "8395"
            ]
          },
          "metadata": {
            "tags": []
          },
          "execution_count": 13
        }
      ]
    },
    {
      "cell_type": "code",
      "metadata": {
        "id": "wd7jHHiVE3uR",
        "colab_type": "code",
        "colab": {
          "base_uri": "https://localhost:8080/",
          "height": 34
        },
        "outputId": "28f4eeb3-d023-4b43-a9d8-70637650f756"
      },
      "source": [
        "print(preprocessed_data[50])"
      ],
      "execution_count": null,
      "outputs": [
        {
          "output_type": "stream",
          "text": [
            "['all', 'quedo', 'pasto', 'buitr', 'perro', 'vagabundo', 'dem', 's', 'animal', 'carro', 'ero']\n"
          ],
          "name": "stdout"
        }
      ]
    },
    {
      "cell_type": "markdown",
      "metadata": {
        "id": "iiR7MsHgFnf1",
        "colab_type": "text"
      },
      "source": [
        "# Build Dictionary"
      ]
    },
    {
      "cell_type": "code",
      "metadata": {
        "id": "cuAxl-SkE6Z7",
        "colab_type": "code",
        "colab": {}
      },
      "source": [
        "def build_dict(data, vocab_size = 5000):\n",
        "    \"\"\"Construct and return a dictionary mapping each of the most frequently appearing words to a unique integer.\"\"\"\n",
        "    \n",
        "    # TODO: Determine how often each word appears in `data`. Note that `data` is a list of sentences and that a\n",
        "    #       sentence is a list of words.\n",
        "    word_count = {} # A dict storing the words that appear in the reviews along with how often they occur\n",
        "\n",
        "    for sentence in data:\n",
        "        for word in sentence:\n",
        "            if word in word_count:\n",
        "                word_count[word]+=1\n",
        "            else:\n",
        "                word_count[word]=1\n",
        "    \n",
        "    # TODO: Sort the words found in `data` so that sorted_words[0] is the most frequently appearing word and\n",
        "    #       sorted_words[-1] is the least frequently appearing word.\n",
        "    \n",
        "    sorted_words = sorted(word_count.items(), key=lambda x: x[1], reverse=True)\n",
        "    sorted_words = [tupl[0] for tupl in sorted_words]\n",
        "\n",
        "    word_dict = {} # This is what we are building, a dictionary that translates words into integers\n",
        "    for idx, word in enumerate(sorted_words[:vocab_size - 3]): # The -3 is so that we save room for the 'no word'\n",
        "        word_dict[word] = idx + 3                              # 'infrequent' 'pad' labels\n",
        "        \n",
        "    return word_dict, word_count"
      ],
      "execution_count": null,
      "outputs": []
    },
    {
      "cell_type": "code",
      "metadata": {
        "id": "Y7JaLVM1FrnL",
        "colab_type": "code",
        "colab": {
          "base_uri": "https://localhost:8080/",
          "height": 52
        },
        "outputId": "5b0fd75b-dd14-4169-862e-192a74391915"
      },
      "source": [
        "SIZE_VOCAB = 5000\n",
        "word_dict, complete_dict = build_dict(preprocessed_data, SIZE_VOCAB)\n",
        "list_dict = [key for key in word_dict.keys()]\n",
        "print(list_dict[:20])\n",
        "\n",
        "print('Selected {}/{} words'.format(SIZE_VOCAB, len(complete_dict)))"
      ],
      "execution_count": null,
      "outputs": [
        {
          "output_type": "stream",
          "text": [
            "['n', 's', 'm', 'as', 'd', 'est', 'ser', 'espa', 'do', 'tambi', 'si', 'euro', 'l', 'c', 'millon', 'seg', 'ayer', 'p', 'an', 'part']\n",
            "Selected 5000/20827 words\n"
          ],
          "name": "stdout"
        }
      ]
    },
    {
      "cell_type": "code",
      "metadata": {
        "id": "TyZ0zIx17Vfl",
        "colab_type": "code",
        "colab": {}
      },
      "source": [
        "# We will add the XXX as 0 in the dictionary, so when a custom sentence is inputted, the XXX will mark the word the model has to guess\n",
        "word_dict['XXX'] = 0\n",
        "word_dict['PAD'] = 1\n",
        "word_dict['INFREQ'] = 2"
      ],
      "execution_count": null,
      "outputs": []
    },
    {
      "cell_type": "markdown",
      "metadata": {
        "id": "D367NLVQHJbI",
        "colab_type": "text"
      },
      "source": [
        "# Convert and pad data"
      ]
    },
    {
      "cell_type": "code",
      "metadata": {
        "id": "65FbD9edGaKA",
        "colab_type": "code",
        "colab": {}
      },
      "source": [
        "def convert_and_pad(word_dict, sentence, pad=500):\n",
        "    NOWORD = 1 # We will use 0 to represent the 'no word' category\n",
        "    INFREQ = 2 # and we use 1 to represent the infrequent words, i.e., words not appearing in word_dict\n",
        "    \n",
        "    working_sentence = [NOWORD] * pad\n",
        "    \n",
        "    for word_index, word in enumerate(sentence[:pad]):\n",
        "      if word_index < pad:\n",
        "        if word in word_dict:\n",
        "            working_sentence[word_index] = word_dict[word]\n",
        "        else:\n",
        "            working_sentence[word_index] = INFREQ\n",
        "            \n",
        "    return working_sentence, min(len(sentence), pad)\n",
        "\n",
        "def convert_and_pad_data(word_dict, data, pad=500):\n",
        "    result = []\n",
        "    lengths = []\n",
        "    \n",
        "    for sentence in data:\n",
        "        converted, leng = convert_and_pad(word_dict, sentence, pad)\n",
        "        result.append(converted)\n",
        "        lengths.append(leng)\n",
        "        \n",
        "    return np.array(result), np.array(lengths)"
      ],
      "execution_count": null,
      "outputs": []
    },
    {
      "cell_type": "code",
      "metadata": {
        "id": "UQDj7Uw7HcUs",
        "colab_type": "code",
        "colab": {}
      },
      "source": [
        "int_data, int_data_len = convert_and_pad_data(word_dict, preprocessed_data, MAX_PADDING)"
      ],
      "execution_count": null,
      "outputs": []
    },
    {
      "cell_type": "code",
      "metadata": {
        "id": "ZDONOpMMHmHG",
        "colab_type": "code",
        "colab": {
          "base_uri": "https://localhost:8080/",
          "height": 70
        },
        "outputId": "e35e4eea-c55b-430c-cf6e-b8b032f0196b"
      },
      "source": [
        "print(int_data[50], int_data_len[50])\n"
      ],
      "execution_count": null,
      "outputs": [
        {
          "output_type": "stream",
          "text": [
            "[ 342    2    2    2    2    2  555    4 1896    2  902    1    1    1\n",
            "    1    1    1    1    1    1    1    1    1    1    1    1    1    1\n",
            "    1    1    1    1    1    1    1] 11\n"
          ],
          "name": "stdout"
        }
      ]
    },
    {
      "cell_type": "markdown",
      "metadata": {
        "id": "pFzTv9zKIsow",
        "colab_type": "text"
      },
      "source": [
        "# Extract word"
      ]
    },
    {
      "cell_type": "code",
      "metadata": {
        "id": "Iq4cWTxprn10",
        "colab_type": "code",
        "colab": {
          "base_uri": "https://localhost:8080/",
          "height": 34
        },
        "outputId": "ad0eb673-abe3-4936-e3f0-6fc16c0ba705"
      },
      "source": [
        "# Check there is no sentence with all 2's\n",
        "int_data_pre = [d for d, lend in zip(int_data, int_data_len) if len(set(d[:lend])) > 1]\n",
        "len_data_pre = [lend for d, lend in zip(int_data, int_data_len) if len(set(d[:lend])) > 1]\n",
        "print('{} of the {} sentences were only 2\\'s'.format(len(int_data)-len(int_data_pre), len(int_data)))"
      ],
      "execution_count": null,
      "outputs": [
        {
          "output_type": "stream",
          "text": [
            "2 of the 8395 sentences were only 2's\n"
          ],
          "name": "stdout"
        }
      ]
    },
    {
      "cell_type": "code",
      "metadata": {
        "id": "hhQdcCFYI9tY",
        "colab_type": "code",
        "colab": {
          "base_uri": "https://localhost:8080/",
          "height": 34
        },
        "outputId": "04f86e05-47f2-4a93-b9bd-11701e1cc722"
      },
      "source": [
        "start = time.time()\n",
        "masked_data = []\n",
        "word_masked = []\n",
        "\n",
        "masked_data = int_data_pre.copy()\n",
        "\n",
        "for idx, (sentence, len_sentence) in enumerate(zip(int_data_pre, len_data_pre)):\n",
        "  acceptable_value = False\n",
        "  \n",
        "  while acceptable_value == False:\n",
        "    idx_word = random.randint(0, len_sentence-1)\n",
        "    if int_data_pre[idx][idx_word] != 2:\n",
        "      acceptable_value = True\n",
        "  \n",
        "  word_masked.append(int_data_pre[idx][idx_word]) #save the word extracted  \n",
        "  masked_data[idx][idx_word] = 0 #put this word to 0\n",
        "\n",
        "end = time.time()\n",
        "print('Run for: {}s'.format(end-start))"
      ],
      "execution_count": null,
      "outputs": [
        {
          "output_type": "stream",
          "text": [
            "Run for: 0.03603315353393555s\n"
          ],
          "name": "stdout"
        }
      ]
    },
    {
      "cell_type": "code",
      "metadata": {
        "id": "KbfUsgHvLd50",
        "colab_type": "code",
        "colab": {
          "base_uri": "https://localhost:8080/",
          "height": 158
        },
        "outputId": "16b5aee0-908f-4f5d-9380-5fd0e97687d4"
      },
      "source": [
        "print(int_data_pre[50])\n",
        "print(masked_data[50])\n",
        "print(word_masked[50])\n",
        "search2 = [el for el in word_masked if el == 2]\n",
        "print(search2)"
      ],
      "execution_count": null,
      "outputs": [
        {
          "output_type": "stream",
          "text": [
            "[ 342    2    2    2    2    2  555    4 1896    2    0    1    1    1\n",
            "    1    1    1    1    1    1    1    1    1    1    1    1    1    1\n",
            "    1    1    1    1    1    1    1]\n",
            "[ 342    2    2    2    2    2  555    4 1896    2    0    1    1    1\n",
            "    1    1    1    1    1    1    1    1    1    1    1    1    1    1\n",
            "    1    1    1    1    1    1    1]\n",
            "902\n",
            "[]\n"
          ],
          "name": "stdout"
        }
      ]
    },
    {
      "cell_type": "markdown",
      "metadata": {
        "id": "2U2lCUE8H3Ze",
        "colab_type": "text"
      },
      "source": [
        "# Split Training, Validation, Test"
      ]
    },
    {
      "cell_type": "code",
      "metadata": {
        "id": "Vd5FvlfpHoXc",
        "colab_type": "code",
        "colab": {}
      },
      "source": [
        "from sklearn.model_selection import train_test_split\n",
        "\n",
        "train_x, valid_x, train_y, valid_y, train_len, valid_len = train_test_split(masked_data, word_masked, len_data_pre, test_size=0.25, random_state=42)\n",
        "valid_x, test_x, valid_y, test_y, valid_len, test_len = train_test_split(valid_x, valid_y, valid_len, test_size=0.4, random_state=42)"
      ],
      "execution_count": null,
      "outputs": []
    },
    {
      "cell_type": "code",
      "metadata": {
        "id": "dqOgfuMCOocL",
        "colab_type": "code",
        "colab": {
          "base_uri": "https://localhost:8080/",
          "height": 70
        },
        "outputId": "1dbefa67-12d0-4fc2-f073-7cf85c8f8803"
      },
      "source": [
        "print('train: ', len(train_x), len(train_y), len(train_len))\n",
        "print('valid: ', len(valid_x), len(valid_y), len(valid_len))\n",
        "print('test: ', len(test_x), len(test_y), len(test_len))\n"
      ],
      "execution_count": null,
      "outputs": [
        {
          "output_type": "stream",
          "text": [
            "train:  6294 6294 6294\n",
            "valid:  1259 1259 1259\n",
            "test:  840 840 840\n"
          ],
          "name": "stdout"
        }
      ]
    },
    {
      "cell_type": "markdown",
      "metadata": {
        "id": "J96V6TBKmd-o",
        "colab_type": "text"
      },
      "source": [
        "# Cleaning variables"
      ]
    },
    {
      "cell_type": "code",
      "metadata": {
        "id": "R4AykQrtfcc5",
        "colab_type": "code",
        "colab": {}
      },
      "source": [
        "preprocessed_data = None\n",
        "list_dict = None\n",
        "int_data = None\n",
        "int_data_len = None\n",
        "len_data_pre = None\n",
        "int_data_pre = None\n",
        "masked_data = None\n",
        "word_masked = None\n",
        "data = None\n",
        "Lines = None\n",
        "complete_dict = None"
      ],
      "execution_count": null,
      "outputs": []
    },
    {
      "cell_type": "markdown",
      "metadata": {
        "id": "GGJ9YG3tPwu1",
        "colab_type": "text"
      },
      "source": [
        "# TRANSFORMER Model\n",
        "\n",
        "From https://blog.floydhub.com/the-transformer-in-pytorch/"
      ]
    },
    {
      "cell_type": "markdown",
      "metadata": {
        "id": "LYFdLMwxGBt9",
        "colab_type": "text"
      },
      "source": [
        "### Embedding"
      ]
    },
    {
      "cell_type": "code",
      "metadata": {
        "id": "EimOEmaDO6AF",
        "colab_type": "code",
        "colab": {}
      },
      "source": [
        "class Embedder(nn.Module):\n",
        "    def __init__(self, vocab_size, d_model):\n",
        "        super().__init__()\n",
        "        self.embed = nn.Embedding(vocab_size, d_model)\n",
        "    def forward(self, x):\n",
        "        return self.embed(x)"
      ],
      "execution_count": null,
      "outputs": []
    },
    {
      "cell_type": "markdown",
      "metadata": {
        "id": "PRMxNt8uGD5I",
        "colab_type": "text"
      },
      "source": [
        "### Positional Encoder"
      ]
    },
    {
      "cell_type": "code",
      "metadata": {
        "id": "6i29M7y8GTp6",
        "colab_type": "code",
        "colab": {}
      },
      "source": [
        "class PositionalEncoder(nn.Module):\n",
        "    def __init__(self, d_model, max_seq_len = 80):\n",
        "        super().__init__()\n",
        "        self.d_model = d_model\n",
        "        \n",
        "        # create constant 'pe' matrix with values dependant on \n",
        "        # pos and i\n",
        "        pe = torch.zeros(max_seq_len, d_model)\n",
        "        for pos in range(max_seq_len):\n",
        "            for i in range(0, d_model, 2):\n",
        "                pe[pos, i] = \\\n",
        "                math.sin(pos / (10000 ** ((2 * i)/d_model)))\n",
        "                pe[pos, i + 1] = \\\n",
        "                math.cos(pos / (10000 ** ((2 * (i + 1))/d_model)))\n",
        "                \n",
        "        pe = pe.unsqueeze(0)\n",
        "        self.register_buffer('pe', pe)\n",
        " \n",
        "    \n",
        "    def forward(self, x):\n",
        "        # make embeddings relatively larger\n",
        "        x = x * math.sqrt(self.d_model)\n",
        "        #add constant to embedding\n",
        "        seq_len = x.size(1)\n",
        "        x = x + Variable(self.pe[:,:seq_len], \\\n",
        "        requires_grad=False).cuda()\n",
        "        return x"
      ],
      "execution_count": null,
      "outputs": []
    },
    {
      "cell_type": "markdown",
      "metadata": {
        "id": "wz4vGy41G1hn",
        "colab_type": "text"
      },
      "source": [
        "### Multihead Attention"
      ]
    },
    {
      "cell_type": "code",
      "metadata": {
        "id": "wFcAsbe3HYsD",
        "colab_type": "code",
        "colab": {}
      },
      "source": [
        "class MultiHeadAttention(nn.Module):\n",
        "    def __init__(self, heads, d_model, dropout = 0.1):\n",
        "        super().__init__()\n",
        "        \n",
        "        self.d_model = d_model\n",
        "        self.d_k = d_model // heads\n",
        "        self.h = heads\n",
        "        \n",
        "        self.q_linear = nn.Linear(d_model, d_model)\n",
        "        self.v_linear = nn.Linear(d_model, d_model)\n",
        "        self.k_linear = nn.Linear(d_model, d_model)\n",
        "        self.dropout = nn.Dropout(dropout)\n",
        "        self.out = nn.Linear(d_model, d_model)\n",
        "    \n",
        "    def forward(self, q, k, v, mask=None):\n",
        "        \n",
        "        bs = q.size(0)\n",
        "        \n",
        "        # perform linear operation and split into h heads\n",
        "        \n",
        "        k = self.k_linear(k).view(bs, -1, self.h, self.d_k)\n",
        "        q = self.q_linear(q).view(bs, -1, self.h, self.d_k)\n",
        "        v = self.v_linear(v).view(bs, -1, self.h, self.d_k)\n",
        "        \n",
        "        # transpose to get dimensions bs * h * sl * d_model\n",
        "       \n",
        "        k = k.transpose(1,2)\n",
        "        q = q.transpose(1,2)\n",
        "        v = v.transpose(1,2)\n",
        "\n",
        "\t# calculate attention using function we will define next\n",
        "        scores = attention(q, k, v, self.d_k, mask, self.dropout)\n",
        "        \n",
        "        # concatenate heads and put through final linear layer\n",
        "        concat = scores.transpose(1,2).contiguous()\\\n",
        "        .view(bs, -1, self.d_model)\n",
        "        \n",
        "        output = self.out(concat)\n",
        "    \n",
        "        return output"
      ],
      "execution_count": null,
      "outputs": []
    },
    {
      "cell_type": "markdown",
      "metadata": {
        "id": "onPpr73SHZO0",
        "colab_type": "text"
      },
      "source": [
        "### Attention"
      ]
    },
    {
      "cell_type": "code",
      "metadata": {
        "id": "21XnpcCuHkpp",
        "colab_type": "code",
        "colab": {}
      },
      "source": [
        "def attention(q, k, v, d_k, mask=None, dropout=None):\n",
        "\n",
        "  scores = torch.matmul(q, k.transpose(-2, -1)) /  math.sqrt(d_k)\n",
        "\n",
        "  if mask is not None:\n",
        "    mask = mask.unsqueeze(1)\n",
        "    scores = scores.masked_fill(mask == 0, -1e9)\n",
        "    scores = F.softmax(scores, dim=-1)\n",
        "    \n",
        "  if dropout is not None:\n",
        "    scores = dropout(scores)\n",
        "  \n",
        "  output = torch.matmul(scores, v)\n",
        "  return output"
      ],
      "execution_count": null,
      "outputs": []
    },
    {
      "cell_type": "markdown",
      "metadata": {
        "id": "O-JkM6JoHlOR",
        "colab_type": "text"
      },
      "source": [
        "### Final Feed Forward"
      ]
    },
    {
      "cell_type": "code",
      "metadata": {
        "id": "Eo5QyshOHqB6",
        "colab_type": "code",
        "colab": {}
      },
      "source": [
        "class FeedForward(nn.Module):\n",
        "    def __init__(self, d_model, d_ff=2048, dropout = 0.1):\n",
        "        super().__init__() \n",
        "        # We set d_ff as a default to 2048\n",
        "        self.linear_1 = nn.Linear(d_model, d_ff)\n",
        "        self.dropout = nn.Dropout(dropout)\n",
        "        self.linear_2 = nn.Linear(d_ff, d_model)\n",
        "    def forward(self, x):\n",
        "        x = self.dropout(F.relu(self.linear_1(x)))\n",
        "        x = self.linear_2(x)\n",
        "        return x"
      ],
      "execution_count": null,
      "outputs": []
    },
    {
      "cell_type": "markdown",
      "metadata": {
        "id": "9MSlMKo-Hq0B",
        "colab_type": "text"
      },
      "source": [
        "### Normalization"
      ]
    },
    {
      "cell_type": "code",
      "metadata": {
        "id": "12jW9X-hHwIU",
        "colab_type": "code",
        "colab": {}
      },
      "source": [
        "class Norm(nn.Module):\n",
        "    def __init__(self, d_model, eps = 1e-6):\n",
        "        super().__init__()\n",
        "    \n",
        "        self.size = d_model\n",
        "        # create two learnable parameters to calibrate normalisation\n",
        "        self.alpha = nn.Parameter(torch.ones(self.size))\n",
        "        self.bias = nn.Parameter(torch.zeros(self.size))\n",
        "        self.eps = eps\n",
        "    def forward(self, x):\n",
        "        norm = self.alpha * (x - x.mean(dim=-1, keepdim=True)) \\\n",
        "        / (x.std(dim=-1, keepdim=True) + self.eps) + self.bias\n",
        "        return norm"
      ],
      "execution_count": null,
      "outputs": []
    },
    {
      "cell_type": "markdown",
      "metadata": {
        "id": "uY6PJwRoHxCj",
        "colab_type": "text"
      },
      "source": [
        "## Putting all together"
      ]
    },
    {
      "cell_type": "code",
      "metadata": {
        "id": "mjddwjNPHzEe",
        "colab_type": "code",
        "colab": {}
      },
      "source": [
        "# build an encoder layer with one multi-head attention layer and one # feed-forward layer\n",
        "class EncoderLayer(nn.Module):\n",
        "    def __init__(self, d_model, heads, dropout = 0.1):\n",
        "        super().__init__()\n",
        "        self.norm_1 = Norm(d_model)\n",
        "        self.norm_2 = Norm(d_model)\n",
        "        self.attn = MultiHeadAttention(heads, d_model)\n",
        "        self.ff = FeedForward(d_model)\n",
        "        self.dropout_1 = nn.Dropout(dropout)\n",
        "        self.dropout_2 = nn.Dropout(dropout)\n",
        "        \n",
        "    def forward(self, x, mask):\n",
        "        x2 = self.norm_1(x)\n",
        "        x = x + self.dropout_1(self.attn(x2,x2,x2,mask))\n",
        "        x2 = self.norm_2(x)\n",
        "        x = x + self.dropout_2(self.ff(x2))\n",
        "        return x\n",
        "    \n",
        "# build a decoder layer with two multi-head attention layers and\n",
        "# one feed-forward layer\n",
        "class DecoderLayer(nn.Module):\n",
        "    def __init__(self, d_model, heads, dropout=0.1):\n",
        "        super().__init__()\n",
        "        self.norm_1 = Norm(d_model)\n",
        "        self.norm_2 = Norm(d_model)\n",
        "        self.norm_3 = Norm(d_model)\n",
        "        \n",
        "        self.dropout_1 = nn.Dropout(dropout)\n",
        "        self.dropout_2 = nn.Dropout(dropout)\n",
        "        self.dropout_3 = nn.Dropout(dropout)\n",
        "        \n",
        "        self.attn_1 = MultiHeadAttention(heads, d_model)\n",
        "        self.attn_2 = MultiHeadAttention(heads, d_model)\n",
        "        self.ff = FeedForward(d_model).cuda()\n",
        "\n",
        "    def forward(self, x, e_outputs, src_mask, trg_mask):\n",
        "          x2 = self.norm_1(x)\n",
        "          x = x + self.dropout_1(self.attn_1(x2, x2, x2, trg_mask))\n",
        "          x2 = self.norm_2(x)\n",
        "          x = x + self.dropout_2(self.attn_2(x2, e_outputs, e_outputs,\n",
        "          src_mask))\n",
        "          x2 = self.norm_3(x)\n",
        "          x = x + self.dropout_3(self.ff(x2))\n",
        "          return x\n",
        "\n",
        "# We can then build a convenient cloning function that can generate multiple layers:\n",
        "def get_clones(module, N):\n",
        "    return nn.ModuleList([copy.deepcopy(module) for i in range(N)])"
      ],
      "execution_count": null,
      "outputs": []
    },
    {
      "cell_type": "code",
      "metadata": {
        "id": "bBTRJxJgH_yY",
        "colab_type": "code",
        "colab": {}
      },
      "source": [
        "class Encoder(nn.Module):\n",
        "    def __init__(self, vocab_size, d_model, N, heads):\n",
        "        super().__init__()\n",
        "        self.N = N\n",
        "        self.embed = Embedder(vocab_size, d_model)\n",
        "        self.pe = PositionalEncoder(d_model)\n",
        "        self.layers = get_clones(EncoderLayer(d_model, heads), N)\n",
        "        self.norm = Norm(d_model)\n",
        "\n",
        "    def forward(self, src, mask):\n",
        "        x = self.embed(src)\n",
        "        x = self.pe(x)\n",
        "        for i in range(self.N):\n",
        "            x = self.layers[i](x, mask)\n",
        "        return self.norm(x)\n",
        "    \n",
        "class Decoder(nn.Module):\n",
        "    def __init__(self, vocab_size, d_model, N, heads):\n",
        "        super().__init__()\n",
        "        self.N = N\n",
        "        self.embed = Embedder(vocab_size, d_model)\n",
        "        self.pe = PositionalEncoder(d_model)\n",
        "        self.layers = get_clones(DecoderLayer(d_model, heads), N)\n",
        "        self.norm = Norm(d_model)\n",
        "\n",
        "    def forward(self, trg, e_outputs, src_mask, trg_mask):\n",
        "        x = self.embed(trg)\n",
        "        x = self.pe(x)\n",
        "        for i in range(self.N):\n",
        "            x = self.layers[i](x, e_outputs, src_mask, trg_mask)\n",
        "        return self.norm(x)"
      ],
      "execution_count": null,
      "outputs": []
    },
    {
      "cell_type": "code",
      "metadata": {
        "id": "cDrcTgDOIAU9",
        "colab_type": "code",
        "colab": {}
      },
      "source": [
        "class Transformer(nn.Module):\n",
        "    def __init__(self, size_vocab, d_model, N, heads):\n",
        "        super().__init__()\n",
        "        self.encoder = Encoder(size_vocab, d_model, N, heads)\n",
        "        self.decoder = Decoder(size_vocab, d_model, N, heads)\n",
        "        self.out = nn.Linear(d_model, size_vocab)\n",
        "\n",
        "    def forward(self, src, trg, src_mask, trg_mask):\n",
        "        e_outputs = self.encoder(src, src_mask)\n",
        "        d_output = self.decoder(trg, e_outputs, src_mask, trg_mask)\n",
        "\n",
        "        output = self.out(d_output)\n",
        "\n",
        "        return output\n",
        "# we don't perform softmax on the output as this will be handled \n",
        "# automatically by our loss function"
      ],
      "execution_count": null,
      "outputs": []
    },
    {
      "cell_type": "markdown",
      "metadata": {
        "id": "oqiANlPhGUUL",
        "colab_type": "text"
      },
      "source": [
        "## Input Masks\n",
        "\n",
        "The input mask avoids the possible info by the padding.\n",
        "The target mask is used to avoid looking at future info when guessing next word.\n",
        "\n",
        "It uses the complete sentence without the word as an input for the decoder along with the outputs of the decoder.\n",
        "\n",
        "There are also target masks, when the intention is to not allow the decoder to use future information for the decoding, but in this case we want to use the complete sentence, so there isn't any target mask in this case."
      ]
    },
    {
      "cell_type": "code",
      "metadata": {
        "id": "yD6q4F5ztwhy",
        "colab_type": "code",
        "colab": {}
      },
      "source": [
        "def create_mask(data, batchsize):\n",
        "  input_msk = [[[0] if _el == 1 else [1] for _el in _ar] for _ar in data]\n",
        "  arr_input_msk = np.array(input_msk)\n",
        "\n",
        "  torch_msk_input = torch.tensor(input_msk).clone()\n",
        "  mask_sample_ds = torch.utils.data.TensorDataset(torch_msk_input)\n",
        "  msk_input_loader = torch.utils.data.DataLoader(mask_sample_ds, batch_size=batchsize)\n",
        "\n",
        "  return msk_input_loader"
      ],
      "execution_count": null,
      "outputs": []
    },
    {
      "cell_type": "markdown",
      "metadata": {
        "id": "XeaEhFrwIESP",
        "colab_type": "text"
      },
      "source": [
        "# Training"
      ]
    },
    {
      "cell_type": "code",
      "metadata": {
        "id": "Jy8WRMft7jsu",
        "colab_type": "code",
        "colab": {}
      },
      "source": [
        "def train(model, train_loader, mask_loader, eval_loader, eval_mask_loader, epochs, optimizer, loss_fn, device):\n",
        "    print('Start training')\n",
        "    total_length = len(train_loader.dataset)\n",
        "    loss_return = []\n",
        "    eval_loss_return = []\n",
        "\n",
        "    for epoch in range(1, epochs + 1):\n",
        "        model.train()\n",
        "        batchs_done = 0\n",
        "        total_loss = 0\n",
        "\n",
        "        for batch, msk_batch in zip(train_loader, mask_loader):\n",
        "            batch_X, batch_y = batch\n",
        "            batch_X = batch_X.to(device)\n",
        "            batch_y = batch_y.to(device)\n",
        "\n",
        "            if len(msk_batch)==2:\n",
        "              input_msk, output_msk = msk_batch\n",
        "              input_msk = input_msk.to(device)\n",
        "              output_msk = output_msk.to(device)\n",
        "            else:\n",
        "              input_msk = msk_batch[0]\n",
        "              output_msk = None\n",
        "              input_msk = input_msk.to(device)\n",
        "\n",
        "            out = model(batch_X, batch_X, input_msk, output_msk)\n",
        "\n",
        "            optimizer.zero_grad()\n",
        "\n",
        "            batch_loss = loss_fn(out[:, -1, :], batch_y)\n",
        "\n",
        "            batch_loss.backward()\n",
        "            optimizer.step()\n",
        "\n",
        "            total_loss += batch_loss.data.item()\n",
        "\n",
        "        print(\"Epoch: {}, Loss: {}\".format(epoch, total_loss / len(train_loader)))\n",
        "        loss_return.append(total_loss / len(train_loader))\n",
        "\n",
        "        if epoch % 5 == 0: #every five epochs an evauation\n",
        "          eval_total_loss = 0\n",
        "          model.eval()\n",
        "\n",
        "          for eval_batch, eval_msk_batch in zip(eval_loader, eval_mask_loader):\n",
        "            eval_batch_X, eval_batch_y = eval_batch\n",
        "            eval_batch_X = eval_batch_X.to(device)\n",
        "            eval_batch_y = eval_batch_y.to(device)\n",
        "\n",
        "            if len(eval_msk_batch)==2:\n",
        "              eval_input_msk, eval_output_msk = eval_msk_batch\n",
        "              eval_input_msk = eval_input_msk.to(device)\n",
        "              eval_output_msk = eval_output_msk.to(device)\n",
        "            else:\n",
        "              eval_input_msk = eval_msk_batch[0]\n",
        "              eval_output_msk = None\n",
        "              eval_input_msk = eval_input_msk.to(device)\n",
        "\n",
        "            eval_out = model(eval_batch_X, eval_batch_X, eval_input_msk, eval_output_msk)\n",
        "\n",
        "            eval_batch_loss = loss_fn(eval_out[:, -1, :], eval_batch_y)\n",
        "            eval_total_loss += eval_batch_loss.data.item()\n",
        "\n",
        "          print(\"Eval Loss: {}\".format(eval_total_loss / len(eval_loader)))\n",
        "          eval_loss_return.append(eval_total_loss / len(eval_loader))\n",
        "\n",
        "    return loss_return, eval_loss_return"
      ],
      "execution_count": null,
      "outputs": []
    },
    {
      "cell_type": "code",
      "metadata": {
        "id": "S3JoKmYqG9wp",
        "colab_type": "code",
        "colab": {}
      },
      "source": [
        "# Check all shapes are of 35 check\n",
        "a = [1 for el in train_x if len(el)!=35]\n",
        "assert len(a) == 0"
      ],
      "execution_count": null,
      "outputs": []
    },
    {
      "cell_type": "code",
      "metadata": {
        "id": "f70rHuez7nVO",
        "colab_type": "code",
        "colab": {
          "base_uri": "https://localhost:8080/",
          "height": 798
        },
        "outputId": "284d4549-6b9f-4e9c-d492-cf312f059054"
      },
      "source": [
        "BATCH_SIZE = 128\n",
        "EPOCHS = 30\n",
        "LR = 0.001\n",
        "\n",
        "d_model = 256\n",
        "heads = 8\n",
        "N = 6\n",
        "\n",
        "device = torch.device(\"cuda\" if torch.cuda.is_available() else \"cpu\")\n",
        "print(device)\n",
        "\n",
        "print('Preparing Input Masks')\n",
        "msk_input_loader = create_mask(train_x, BATCH_SIZE)\n",
        "valid_msk_input_loader = create_mask(valid_x, BATCH_SIZE)\n",
        "\n",
        "print('Preparing Train Data Loaders')\n",
        "train_torch_x = torch.tensor(train_x).clone()\n",
        "train_torch_y = torch.tensor(train_y).clone()\n",
        "train_sample_ds = torch.utils.data.TensorDataset(train_torch_x, train_torch_y)\n",
        "train_loader = torch.utils.data.DataLoader(train_sample_ds, batch_size=BATCH_SIZE)\n",
        "\n",
        "print('Preparing Validation Data Loaders')\n",
        "valid_torch_x = torch.tensor(valid_x).clone()\n",
        "valid_torch_y = torch.tensor(valid_y).clone()\n",
        "valid_sample_ds = torch.utils.data.TensorDataset(valid_torch_x, valid_torch_y)\n",
        "valid_loader = torch.utils.data.DataLoader(valid_sample_ds, batch_size=BATCH_SIZE)\n",
        "\n",
        "print('Initialize Model')\n",
        "model = Transformer(SIZE_VOCAB, d_model, N, heads).to(device)\n",
        "for p in model.parameters():\n",
        "    if p.dim() > 1:\n",
        "        nn.init.xavier_uniform_(p)\n",
        "\n",
        "print('Define Loss and Optimizer')\n",
        "loss_function = nn.CrossEntropyLoss()\n",
        "optimizer = optim.Adam(model.parameters(), lr=LR, betas=(0.9, 0.98), eps=1e-9)\n",
        "\n",
        "mask_sample_ds = None\n",
        "train_torch_x = None\n",
        "train_torch_y = None\n",
        "train_sample_ds = None\n",
        "\n",
        "print('Going to train')\n",
        "losses, valid_losses = train(model, train_loader, msk_input_loader, valid_loader, valid_msk_input_loader, EPOCHS, optimizer, loss_function, device)"
      ],
      "execution_count": null,
      "outputs": [
        {
          "output_type": "stream",
          "text": [
            "cuda\n",
            "Preparing Input Masks\n",
            "Preparing Train Data Loaders\n",
            "Preparing Validation Data Loaders\n",
            "Initialize Model\n",
            "Define Loss and Optimizer\n",
            "Going to train\n",
            "Start training\n",
            "Epoch: 1, Loss: 7.957170886993408\n",
            "Epoch: 2, Loss: 7.0784222030639645\n",
            "Epoch: 3, Loss: 6.996005439758301\n",
            "Epoch: 4, Loss: 6.946495685577393\n",
            "Epoch: 5, Loss: 6.963631687164306\n",
            "Eval Loss: 8.59286584854126\n",
            "Epoch: 6, Loss: 6.980979862213135\n",
            "Epoch: 7, Loss: 6.814035568237305\n",
            "Epoch: 8, Loss: 6.756736421585083\n",
            "Epoch: 9, Loss: 6.660890922546387\n",
            "Epoch: 10, Loss: 6.586739377975464\n",
            "Eval Loss: 9.540335845947265\n",
            "Epoch: 11, Loss: 6.476794557571411\n",
            "Epoch: 12, Loss: 6.420280656814575\n",
            "Epoch: 13, Loss: 6.2891076469421385\n",
            "Epoch: 14, Loss: 6.2116709804534915\n",
            "Epoch: 15, Loss: 6.186410675048828\n",
            "Eval Loss: 10.232352924346923\n",
            "Epoch: 16, Loss: 6.322247467041016\n",
            "Epoch: 17, Loss: 6.16582992553711\n",
            "Epoch: 18, Loss: 5.9779411315917965\n",
            "Epoch: 19, Loss: 6.052376441955566\n",
            "Epoch: 20, Loss: 5.98670298576355\n",
            "Eval Loss: 10.872018718719483\n",
            "Epoch: 21, Loss: 5.760269088745117\n",
            "Epoch: 22, Loss: 5.683951764106751\n",
            "Epoch: 23, Loss: 5.583033304214478\n",
            "Epoch: 24, Loss: 5.386162347793579\n",
            "Epoch: 25, Loss: 5.0755099678039555\n",
            "Eval Loss: 11.165404319763184\n",
            "Epoch: 26, Loss: 4.741726508140564\n",
            "Epoch: 27, Loss: 4.229477732181549\n",
            "Epoch: 28, Loss: 3.75856552362442\n",
            "Epoch: 29, Loss: 3.2437615323066713\n",
            "Epoch: 30, Loss: 2.7630026972293855\n",
            "Eval Loss: 11.634246730804444\n"
          ],
          "name": "stdout"
        }
      ]
    },
    {
      "cell_type": "code",
      "metadata": {
        "id": "QbH8W3Ex9Tvj",
        "colab_type": "code",
        "colab": {
          "base_uri": "https://localhost:8080/",
          "height": 282
        },
        "outputId": "2f94468b-6fa0-4454-fe4a-e1757309ae60"
      },
      "source": [
        "# We can make a plot to observe better\n",
        "import matplotlib.pyplot as plt\n",
        "\n",
        "plt.plot(losses, 'b')\n",
        "x_axes_val = [i*5+5 for i in range(len(valid_losses))]\n",
        "plt.plot(x_axes_val, valid_losses, '--r')\n",
        "plt.ylabel('loss')\n",
        "plt.xlabel('epoch')\n",
        "plt.show()"
      ],
      "execution_count": null,
      "outputs": [
        {
          "output_type": "display_data",
          "data": {
            "image/png": "[encoded data removed]",
            "text/plain": [
              "<Figure size 432x288 with 1 Axes>"
            ]
          },
          "metadata": {
            "tags": [],
            "needs_background": "light"
          }
        }
      ]
    },
    {
      "cell_type": "markdown",
      "metadata": {
        "id": "brfvvdxyIRPx",
        "colab_type": "text"
      },
      "source": [
        "# Testing"
      ]
    },
    {
      "cell_type": "code",
      "metadata": {
        "id": "MSoFhQ2is-rc",
        "colab_type": "code",
        "colab": {}
      },
      "source": [
        "def evaluate(model, test_loader, masks_loader, loss_fn, batch_size, device):  \n",
        "  print('Start evaluating')\n",
        "  total_loss = 0\n",
        "  model.eval()\n",
        "\n",
        "  for batch, msk_batch in zip(test_loader, masks_loader):\n",
        "        batch_X, batch_y = batch\n",
        "        batch_X = batch_X.to(device)\n",
        "        batch_y = batch_y.to(device)\n",
        "\n",
        "        if len(msk_batch)==2:\n",
        "          input_msk, output_msk = msk_batch\n",
        "          input_msk = input_msk.to(device)\n",
        "          output_msk = output_msk.to(device)\n",
        "        else:\n",
        "          input_msk = msk_batch[0]\n",
        "          output_msk = None\n",
        "          input_msk = input_msk.to(device)\n",
        "\n",
        "        len_batch = len(batch_X)\n",
        "\n",
        "        out = model(batch_X, batch_X, input_msk, output_msk)\n",
        "\n",
        "        batch_loss = loss_fn(out[:, -1, :], batch_y)\n",
        "        total_loss += batch_loss.data.item()\n",
        "\n",
        "  return total_loss / len(train_loader)"
      ],
      "execution_count": null,
      "outputs": []
    },
    {
      "cell_type": "code",
      "metadata": {
        "id": "VGW5M3MBtMiZ",
        "colab_type": "code",
        "colab": {
          "base_uri": "https://localhost:8080/",
          "height": 105
        },
        "outputId": "d5493899-7bc6-401e-b9ae-2791695f6d84"
      },
      "source": [
        "print('Preparing Input Masks')\n",
        "msk_test_input_loader = create_mask(test_x, BATCH_SIZE)\n",
        "\n",
        "print('Preparing Data Loaders')\n",
        "test_torch_x = torch.tensor(test_x).clone()\n",
        "test_torch_y = torch.tensor(test_y).clone()\n",
        "test_sample_ds = torch.utils.data.TensorDataset(test_torch_x, test_torch_y)\n",
        "test_loader = torch.utils.data.DataLoader(test_sample_ds, batch_size=BATCH_SIZE)\n",
        "\n",
        "test_torch_x = None\n",
        "test_torch_y = None\n",
        "test_sample_ds = None\n",
        "\n",
        "print('Going to test')\n",
        "test_loss = evaluate(model, test_loader, msk_test_input_loader, loss_function, BATCH_SIZE, device)\n",
        "print(test_loss)"
      ],
      "execution_count": null,
      "outputs": [
        {
          "output_type": "stream",
          "text": [
            "Preparing Input Masks\n",
            "Preparing Data Loaders\n",
            "Going to test\n",
            "Start evaluating\n",
            "1.6193408584594726\n"
          ],
          "name": "stdout"
        }
      ]
    },
    {
      "cell_type": "markdown",
      "metadata": {
        "id": "4xdzH5JJ4pRx",
        "colab_type": "text"
      },
      "source": [
        "# Custom Sentence"
      ]
    },
    {
      "cell_type": "code",
      "metadata": {
        "id": "XU_sP6OxbP9a",
        "colab_type": "code",
        "colab": {}
      },
      "source": [
        "def guess_word(custom_sentence):\n",
        "  # PREPROCESS\n",
        "  custom_tok = sentence_to_words(custom_sentence)\n",
        "\n",
        "  # LIMIT LENGTH\n",
        "  if len(custom_tok) > MAX_PADDING:\n",
        "    custom_tok = custom_tok[:MAX_PADDING]\n",
        "\n",
        "  # CONVERT AND PAD\n",
        "  custom_int, custom_len = convert_and_pad(word_dict, custom_tok, MAX_PADDING)\n",
        "\n",
        "  # MASK\n",
        "  msk_input_custom = [[0] if _el == 1 else [1] for _el in custom_int]\n",
        "  torch_msk_input = torch.tensor(msk_input_custom).clone().unsqueeze(0).to(device)\n",
        "  output_mask = None\n",
        "\n",
        "\n",
        "  #PASS THROUGH THE MODEL\n",
        "  torch_custom = torch.tensor(custom_int).clone().unsqueeze(0).to(device)\n",
        "  model.eval()\n",
        "  custom_out = model(torch_custom, torch_custom, torch_msk_input, output_mask)\n",
        "\n",
        "  custom_out = custom_out[:,-1,:].cpu().detach().numpy().reshape(-1)\n",
        "  ind_max = np.argmax(custom_out, axis=0)\n",
        "\n",
        "  for key, value in word_dict.items(): \n",
        "    if ind_max == value:\n",
        "      resulting_word = key\n",
        "      \n",
        "  return resulting_word"
      ],
      "execution_count": null,
      "outputs": []
    },
    {
      "cell_type": "code",
      "metadata": {
        "id": "68FI4Ytm50F5",
        "colab_type": "code",
        "colab": {
          "base_uri": "https://localhost:8080/",
          "height": 158
        },
        "outputId": "992c81f8-1059-4210-e8c7-2b773caa8bfa"
      },
      "source": [
        "test_sentences = [\n",
        "  \"Ha habido una XXX en Colombia durant la presentacion del presidente\",\n",
        "  \"Todas las tropas han sido XXX a America\",\n",
        "  \"Estaba pensando que quizas XXX deberias hacerlo\",\n",
        "  \"Todo lo que llevo esta dentro de mi XXX\"\n",
        "]\n",
        "\n",
        "for custom_sentence in test_sentences:\n",
        "  resulting_word = guess_word(custom_sentence)\n",
        "\n",
        "  print('Initial Sentence: \\t {}'.format(custom_sentence))\n",
        "  print('Word Guessed: \\t\\t {}'.format(resulting_word))"
      ],
      "execution_count": null,
      "outputs": [
        {
          "output_type": "stream",
          "text": [
            "Initial Sentence: \t Ha habido una XXX en Colombia durant la presentacion del presidente\n",
            "Word Guessed: \t\t hab\n",
            "Initial Sentence: \t Todas las tropas han sido XXX a America\n",
            "Word Guessed: \t\t hab\n",
            "Initial Sentence: \t Estaba pensando que quizas XXX deberias hacerlo\n",
            "Word Guessed: \t\t s\n",
            "Initial Sentence: \t Todo lo que llevo esta dentro de mi XXX\n",
            "Word Guessed: \t\t n\n"
          ],
          "name": "stdout"
        }
      ]
    },
    {
      "cell_type": "code",
      "metadata": {
        "id": "k7ln5p_iLIGm",
        "colab_type": "code",
        "colab": {}
      },
      "source": [
        ""
      ],
      "execution_count": null,
      "outputs": []
    }
  ]
}